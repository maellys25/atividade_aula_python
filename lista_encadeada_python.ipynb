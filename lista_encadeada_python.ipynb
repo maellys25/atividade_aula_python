{
 "cells": [
  {
   "cell_type": "code",
   "execution_count": 1,
   "metadata": {},
   "outputs": [
    {
     "name": "stdout",
     "output_type": "stream",
     "text": [
      "B\n",
      "A\n"
     ]
    }
   ],
   "source": [
    "class Node:\n",
    "    def __init__(self, data=None):\n",
    "        self.data = data\n",
    "        self.next = None\n",
    "\n",
    "class Stack:\n",
    "    def __init__(self):\n",
    "        self.top = None\n",
    "\n",
    "    def push(self, data):\n",
    "        if self.top is None:\n",
    "            self.top = Node(data)\n",
    "        else:\n",
    "            new_node = Node(data)\n",
    "            new_node.next = self.top\n",
    "            self.top = new_node\n",
    "\n",
    "    def pop(self):\n",
    "        if self.top is None:\n",
    "            return None\n",
    "        else:\n",
    "            popped_node = self.top\n",
    "            self.top = self.top.next\n",
    "            popped_node.next = None\n",
    "            return popped_node.data\n",
    "\n",
    "# Testando a pilha\n",
    "s = Stack()\n",
    "s.push('A')\n",
    "s.push('B')\n",
    "print(s.pop())  # Deve imprimir 'B'\n",
    "print(s.pop())  # Deve imprimir 'A'\n"
   ]
  },
  {
   "cell_type": "markdown",
   "metadata": {},
   "source": [
    "Exemplos práticos"
   ]
  },
  {
   "cell_type": "code",
   "execution_count": 2,
   "metadata": {},
   "outputs": [
    {
     "name": "stdout",
     "output_type": "stream",
     "text": [
      "C\n",
      "B\n",
      "A\n",
      "3\n",
      "2\n",
      "3\n",
      "2\n"
     ]
    }
   ],
   "source": [
    "#exemplo 1\n",
    "\n",
    "s = Stack()\n",
    "s.push('A')\n",
    "s.push('B')\n",
    "s.push('C')\n",
    "print(s.pop())  # Deve imprimir 'C'\n",
    "print(s.pop())  # Deve imprimir 'B'\n",
    "print(s.pop())  # Deve imprimir 'A'\n",
    "\n",
    "#exemplo 2\n",
    "\n",
    "s = Stack()\n",
    "s.push(1)\n",
    "s.push(2)\n",
    "s.push(3)\n",
    "print(s.top.data)  # Deve imprimir '3'\n",
    "s.pop()\n",
    "print(s.top.data)  # Deve imprimir '2'\n",
    "\n",
    "#exemplo 3\n",
    "\n",
    "s = Stack()\n",
    "s.push(1)\n",
    "s.push(2)\n",
    "s.push(3)\n",
    "print(s.top.data)  # Deve imprimir '3'\n",
    "s.pop()\n",
    "print(s.top.data)  # Deve imprimir '2'\n"
   ]
  }
 ],
 "metadata": {
  "kernelspec": {
   "display_name": "Python 3",
   "language": "python",
   "name": "python3"
  },
  "language_info": {
   "codemirror_mode": {
    "name": "ipython",
    "version": 3
   },
   "file_extension": ".py",
   "mimetype": "text/x-python",
   "name": "python",
   "nbconvert_exporter": "python",
   "pygments_lexer": "ipython3",
   "version": "3.11.8"
  }
 },
 "nbformat": 4,
 "nbformat_minor": 2
}
